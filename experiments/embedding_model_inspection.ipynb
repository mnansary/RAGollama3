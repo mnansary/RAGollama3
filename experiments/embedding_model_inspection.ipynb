{
 "cells": [
  {
   "cell_type": "markdown",
   "metadata": {},
   "source": [
    "# Creating a vector store"
   ]
  },
  {
   "cell_type": "code",
   "execution_count": 1,
   "metadata": {},
   "outputs": [],
   "source": [
    "# path to the created database\n",
    "VECTOR_DB_PATH=\"/home/ansary/projects/RAGollama3/data/database\"\n",
    "\n",
    "# The path of the csv file that will be used to create a vectorstore. \n",
    "# # The csv will have only one column and each row entry will be treated as a separate document.  \n",
    "DATA_SOURCE=\"/home/ansary/projects/RAGollama3/data/source.csv\" \n",
    "\n",
    "# The model to use in sentence-transformers for creation embedding\n",
    "EMBEDDING_MODEL=\"l3cube-pune/bengali-sentence-bert-nli\" "
   ]
  },
  {
   "cell_type": "markdown",
   "metadata": {},
   "source": [
    "## Vector Store Creation"
   ]
  },
  {
   "cell_type": "code",
   "execution_count": 2,
   "metadata": {},
   "outputs": [
    {
     "name": "stderr",
     "output_type": "stream",
     "text": [
      "/home/ansary/anaconda3/envs/ragollama/lib/python3.9/site-packages/sentence_transformers/cross_encoder/CrossEncoder.py:11: TqdmWarning: IProgress not found. Please update jupyter and ipywidgets. See https://ipywidgets.readthedocs.io/en/stable/user_install.html\n",
      "  from tqdm.autonotebook import tqdm, trange\n"
     ]
    }
   ],
   "source": [
    "from sentence_transformers import SentenceTransformer\n",
    "import torch\n",
    "\n",
    "# Define the CustomEmbeddings class\n",
    "class CustomEmbeddings:\n",
    "    def __init__(self, model_name: str, device: str = None):\n",
    "        self.device = device or ('cuda' if torch.cuda.is_available() else 'cpu')\n",
    "        self.model = SentenceTransformer(model_name)\n",
    "        self.model.to(self.device)\n",
    "\n",
    "    def embed_documents(self, texts):\n",
    "        \"\"\"Embeds a list of documents (texts) into embeddings.\"\"\"\n",
    "        return self.model.encode(texts, convert_to_numpy=True).tolist()\n",
    "\n",
    "    def embed_query(self, text):\n",
    "        \"\"\"Embeds a single query into an embedding.\"\"\"\n",
    "        return self.model.encode([text], convert_to_numpy=True).tolist()[0]\n"
   ]
  },
  {
   "cell_type": "code",
   "execution_count": 3,
   "metadata": {},
   "outputs": [
    {
     "name": "stderr",
     "output_type": "stream",
     "text": [
      "/home/ansary/anaconda3/envs/ragollama/lib/python3.9/site-packages/transformers/tokenization_utils_base.py:1601: FutureWarning: `clean_up_tokenization_spaces` was not set. It will be set to `True` by default. This behavior will be depracted in transformers v4.45, and will be then set to `False` by default. For more details check this issue: https://github.com/huggingface/transformers/issues/31884\n",
      "  warnings.warn(\n"
     ]
    }
   ],
   "source": [
    "#---------------------------------\n",
    "# imports\n",
    "#---------------------------------\n",
    "import os\n",
    "import pandas as pd\n",
    "import torch\n",
    "from sentence_transformers import SentenceTransformer\n",
    "from langchain.text_splitter import RecursiveCharacterTextSplitter\n",
    "from langchain.vectorstores import Chroma\n",
    "from langchain.schema import Document\n",
    "from tqdm import tqdm\n",
    "#--------------------------------------\n",
    "# global\n",
    "#--------------------------------------\n",
    "embedding_model=CustomEmbeddings(EMBEDDING_MODEL)\n",
    "\n",
    "#--------------------------------------\n",
    "# helper functions\n",
    "#--------------------------------------\n",
    "def create_vector_store(df: pd.DataFrame, \n",
    "                        vector_db_path: str) -> None:\n",
    "    \"\"\"\n",
    "    Create a vector store from a dataframe with a single column, where each entry in the dataframe\n",
    "    is treated as a separate document.\n",
    "\n",
    "    Args:\n",
    "        df (pd.DataFrame): DataFrame containing a single column with text data.\n",
    "        vector_db_path (str): Path to the directory where the vector store will be persisted.\n",
    "    \"\"\"\n",
    "    # Check if GPU is available and set the device\n",
    "    device = 'cuda' if torch.cuda.is_available() else 'cpu'\n",
    "    print(f\"Using device: {device}\")\n",
    "\n",
    "    # Create data directory structure\n",
    "    os.makedirs(vector_db_path, exist_ok=True)\n",
    "\n",
    "    # Initialize text splitter\n",
    "    text_splitter = RecursiveCharacterTextSplitter(\n",
    "        chunk_size=1500,\n",
    "        chunk_overlap=200,\n",
    "        length_function=len\n",
    "    )\n",
    "\n",
    "    \n",
    "    # Initialize the vector store with GPU-based embeddings\n",
    "    vectorstore = Chroma(persist_directory=vector_db_path, embedding_function=embedding_model)\n",
    "\n",
    "    # Process each document in the dataframe\n",
    "    for data in tqdm(df.iloc[:, 0]):\n",
    "        documents = [Document(page_content=data)]\n",
    "        all_splits = text_splitter.split_documents(documents)\n",
    "\n",
    "        # Add the split documents to the vector store\n",
    "        vectorstore.add_documents(all_splits)\n",
    "\n",
    "    # Persist the vector store\n",
    "    vectorstore.persist()\n",
    "    print(\"Vector store created and persisted at:\", vector_db_path)\n"
   ]
  },
  {
   "cell_type": "code",
   "execution_count": 4,
   "metadata": {},
   "outputs": [
    {
     "data": {
      "text/html": [
       "<div>\n",
       "<style scoped>\n",
       "    .dataframe tbody tr th:only-of-type {\n",
       "        vertical-align: middle;\n",
       "    }\n",
       "\n",
       "    .dataframe tbody tr th {\n",
       "        vertical-align: top;\n",
       "    }\n",
       "\n",
       "    .dataframe thead th {\n",
       "        text-align: right;\n",
       "    }\n",
       "</style>\n",
       "<table border=\"1\" class=\"dataframe\">\n",
       "  <thead>\n",
       "    <tr style=\"text-align: right;\">\n",
       "      <th></th>\n",
       "      <th>row</th>\n",
       "    </tr>\n",
       "  </thead>\n",
       "  <tbody>\n",
       "    <tr>\n",
       "      <th>0</th>\n",
       "      <td>মো: সাবিরুল ইসলাম ঢাকা বিভাগ এর বিভাগীয় কমিশনা...</td>\n",
       "    </tr>\n",
       "    <tr>\n",
       "      <th>1</th>\n",
       "      <td>মোহাম্মদ মমিনুর রহমান ঢাকা বিভাগ এর অতিরিক্ত ব...</td>\n",
       "    </tr>\n",
       "    <tr>\n",
       "      <th>2</th>\n",
       "      <td>বিশ্বাস রাসেল হোসেন ঢাকা বিভাগ এর অতিরিক্ত বিভ...</td>\n",
       "    </tr>\n",
       "    <tr>\n",
       "      <th>3</th>\n",
       "      <td>মেহেদী হাসান ঢাকা বিভাগ এর উপ-পরিচালক (স্হানীয়...</td>\n",
       "    </tr>\n",
       "    <tr>\n",
       "      <th>4</th>\n",
       "      <td>তাহমিনা আক্তার ঢাকা বিভাগ এর সিনিয়র সহকারী কমি...</td>\n",
       "    </tr>\n",
       "    <tr>\n",
       "      <th>...</th>\n",
       "      <td>...</td>\n",
       "    </tr>\n",
       "    <tr>\n",
       "      <th>217</th>\n",
       "      <td>আফরোজ আরা পারভীন শিক্ষা প্রকৌশল অধিদপ্তর, ঢাকা...</td>\n",
       "    </tr>\n",
       "    <tr>\n",
       "      <th>218</th>\n",
       "      <td>মো. শফিকুল ইসলাম শিক্ষা প্রকৌশল অধিদপ্তর, ঢাকা...</td>\n",
       "    </tr>\n",
       "    <tr>\n",
       "      <th>219</th>\n",
       "      <td>মুহাম্মদ বাবুল আহমেদ শিক্ষা প্রকৌশল অধিদপ্তর, ...</td>\n",
       "    </tr>\n",
       "    <tr>\n",
       "      <th>220</th>\n",
       "      <td>মো. বেল্লাল হোসেন শিক্ষা প্রকৌশল অধিদপ্তর, ঢাক...</td>\n",
       "    </tr>\n",
       "    <tr>\n",
       "      <th>221</th>\n",
       "      <td>মোঃ আসাদুজ্জামান পানি উন্নয়ন বোর্ড (পাউবো) এর...</td>\n",
       "    </tr>\n",
       "  </tbody>\n",
       "</table>\n",
       "<p>222 rows × 1 columns</p>\n",
       "</div>"
      ],
      "text/plain": [
       "                                                   row\n",
       "0    মো: সাবিরুল ইসলাম ঢাকা বিভাগ এর বিভাগীয় কমিশনা...\n",
       "1    মোহাম্মদ মমিনুর রহমান ঢাকা বিভাগ এর অতিরিক্ত ব...\n",
       "2    বিশ্বাস রাসেল হোসেন ঢাকা বিভাগ এর অতিরিক্ত বিভ...\n",
       "3    মেহেদী হাসান ঢাকা বিভাগ এর উপ-পরিচালক (স্হানীয়...\n",
       "4    তাহমিনা আক্তার ঢাকা বিভাগ এর সিনিয়র সহকারী কমি...\n",
       "..                                                 ...\n",
       "217  আফরোজ আরা পারভীন শিক্ষা প্রকৌশল অধিদপ্তর, ঢাকা...\n",
       "218  মো. শফিকুল ইসলাম শিক্ষা প্রকৌশল অধিদপ্তর, ঢাকা...\n",
       "219  মুহাম্মদ বাবুল আহমেদ শিক্ষা প্রকৌশল অধিদপ্তর, ...\n",
       "220  মো. বেল্লাল হোসেন শিক্ষা প্রকৌশল অধিদপ্তর, ঢাক...\n",
       "221  মোঃ আসাদুজ্জামান পানি উন্নয়ন বোর্ড (পাউবো) এর...\n",
       "\n",
       "[222 rows x 1 columns]"
      ]
     },
     "execution_count": 4,
     "metadata": {},
     "output_type": "execute_result"
    }
   ],
   "source": [
    "df=pd.read_csv(DATA_SOURCE)\n",
    "df"
   ]
  },
  {
   "cell_type": "code",
   "execution_count": 5,
   "metadata": {},
   "outputs": [
    {
     "name": "stdout",
     "output_type": "stream",
     "text": [
      "Using device: cuda\n"
     ]
    },
    {
     "name": "stderr",
     "output_type": "stream",
     "text": [
      "/home/ansary/anaconda3/envs/ragollama/lib/python3.9/site-packages/langchain_core/_api/deprecation.py:141: LangChainDeprecationWarning: The class `Chroma` was deprecated in LangChain 0.2.9 and will be removed in 0.4. An updated version of the class exists in the langchain-chroma package and should be used instead. To use it run `pip install -U langchain-chroma` and import as `from langchain_chroma import Chroma`.\n",
      "  warn_deprecated(\n",
      "100%|██████████| 222/222 [00:03<00:00, 64.79it/s]\n"
     ]
    },
    {
     "name": "stdout",
     "output_type": "stream",
     "text": [
      "Vector store created and persisted at: /home/ansary/projects/RAGollama3/data/database\n"
     ]
    },
    {
     "name": "stderr",
     "output_type": "stream",
     "text": [
      "/home/ansary/anaconda3/envs/ragollama/lib/python3.9/site-packages/langchain_core/_api/deprecation.py:141: LangChainDeprecationWarning: Since Chroma 0.4.x the manual persistence method is no longer supported as docs are automatically persisted.\n",
      "  warn_deprecated(\n"
     ]
    }
   ],
   "source": [
    "create_vector_store(df,VECTOR_DB_PATH)"
   ]
  },
  {
   "cell_type": "markdown",
   "metadata": {},
   "source": [
    "# Checking Validity of vector store"
   ]
  },
  {
   "cell_type": "code",
   "execution_count": 6,
   "metadata": {},
   "outputs": [],
   "source": [
    "from langchain.vectorstores import Chroma\n",
    "from langchain.schema import Document\n",
    "import torch\n",
    "\n",
    "def query_vector_store(vector_db_path: str, query_text: str, top_k: int = 5) -> None:\n",
    "    \"\"\"\n",
    "    Query the vector store to find and display the most similar documents to the given query text.\n",
    "\n",
    "    Args:\n",
    "        vector_db_path (str): Path to the directory where the vector store is persisted.\n",
    "        query_text (str): The text query for which to retrieve similar documents.\n",
    "        top_k (int): The number of top similar documents to retrieve.\n",
    "    \"\"\"\n",
    "    # Load the vector store\n",
    "    vectorstore = Chroma(persist_directory=vector_db_path, embedding_function=embedding_model)\n",
    "\n",
    "    # Check if GPU is available and set the device\n",
    "    device = 'cuda' if torch.cuda.is_available() else 'cpu'\n",
    "    print(f\"Using device: {device}\")\n",
    "\n",
    "    # Perform the query\n",
    "    results = vectorstore.similarity_search(query_text, k=top_k)\n",
    "    \n",
    "    # Print the results\n",
    "    for i, result in enumerate(results):\n",
    "        print(f\"Document {i+1}:\")\n",
    "        print(result.page_content)\n",
    "        #print(\"Similarity score:\", result.score)\n",
    "        print()\n",
    "\n"
   ]
  },
  {
   "cell_type": "code",
   "execution_count": 7,
   "metadata": {},
   "outputs": [
    {
     "name": "stdout",
     "output_type": "stream",
     "text": [
      "Using device: cuda\n",
      "Document 1:\n",
      "মোঃ ছায়াদ আহমদ ঢাকা বিভাগ এর প্রশাসনিক কর্মকর্তা হিসাবে কর্মরত আছেন। মোঃ ছায়াদ আহমদ এর ই-মেইল এড্রেস : acestdivcomdhaka@mopa.gov.bd, অফিসের ফোন নম্বর : ৮৩৯১৬৪১, বাসার ফোন নম্বর : , মোবাইল : 01797751895 ।\n",
      "\n",
      "Document 2:\n",
      "মোঃ ছায়াদ আহমদ ঢাকা বিভাগ এর প্রশাসনিক কর্মকর্তা হিসাবে কর্মরত আছেন। মোঃ ছায়াদ আহমদ এর ই-মেইল এড্রেস : acestdivcomdhaka@mopa.gov.bd, অফিসের ফোন নম্বর : ৮৩৯১৬৪১, বাসার ফোন নম্বর : , মোবাইল : 01797751895 ।\n",
      "\n",
      "Document 3:\n",
      "মো: সাবিরুল ইসলাম ঢাকা বিভাগ এর বিভাগীয় কমিশনার হিসাবে কর্মরত আছেন। মো: সাবিরুল ইসলাম এর ই-মেইল এড্রেস : divcomdhaka@mopa.gov.bd, অফিসের ফোন নম্বর : 02-48315085, বাসার ফোন নম্বর : 02-48315084, মোবাইল : Mobile:  01713062404, Tel: 02-48315085 (Office), 02-48315084 (Bungalow)49349999 (Office), 8322255 (Bungalow) ।\n",
      "\n",
      "Document 4:\n",
      "মো: সাবিরুল ইসলাম ঢাকা বিভাগ এর বিভাগীয় কমিশনার হিসাবে কর্মরত আছেন। মো: সাবিরুল ইসলাম এর ই-মেইল এড্রেস : divcomdhaka@mopa.gov.bd, অফিসের ফোন নম্বর : 02-48315085, বাসার ফোন নম্বর : 02-48315084, মোবাইল : Mobile:  01713062404, Tel: 02-48315085 (Office), 02-48315084 (Bungalow)49349999 (Office), 8322255 (Bungalow) ।\n",
      "\n",
      "Document 5:\n",
      "মোহাম্মদ ফখরুল হাসান ঢাকা গণপূর্ত জোন, ঢাকা এর প্রশাসনিক কর্মকর্তা হিসাবে কর্মরত আছেন। মোহাম্মদ ফখরুল হাসান এর ই-মেইল এড্রেস : fhbabu786@gmail.com, অফিসের ফোন নম্বর : 02-223382809, বাসার ফোন নম্বর : , মোবাইল : 01758081711 ।\n",
      "\n"
     ]
    }
   ],
   "source": [
    "# Example usage\n",
    "query_vector_store(vector_db_path=VECTOR_DB_PATH, query_text='ঢাকা বিভাগ এর বিভাগীয় কমিশনার')"
   ]
  },
  {
   "cell_type": "code",
   "execution_count": null,
   "metadata": {},
   "outputs": [],
   "source": []
  }
 ],
 "metadata": {
  "kernelspec": {
   "display_name": "llmrag",
   "language": "python",
   "name": "python3"
  },
  "language_info": {
   "codemirror_mode": {
    "name": "ipython",
    "version": 3
   },
   "file_extension": ".py",
   "mimetype": "text/x-python",
   "name": "python",
   "nbconvert_exporter": "python",
   "pygments_lexer": "ipython3",
   "version": "3.9.19"
  }
 },
 "nbformat": 4,
 "nbformat_minor": 2
}
