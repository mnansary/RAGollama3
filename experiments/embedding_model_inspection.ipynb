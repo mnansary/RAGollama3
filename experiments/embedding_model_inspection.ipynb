{
 "cells": [
  {
   "cell_type": "markdown",
   "metadata": {},
   "source": [
    "# Creating a vector store"
   ]
  },
  {
   "cell_type": "code",
   "execution_count": 1,
   "metadata": {},
   "outputs": [],
   "source": [
    "# path to the created database\n",
    "VECTOR_DB_PATH=\"/home/vpa/RAGollama3/data/20241006/database\"\n",
    "\n",
    "# The path of the csv file that will be used to create a vectorstore. \n",
    "# # The csv will have only one column and each row entry will be treated as a separate document.  \n",
    "DATA_SOURCE=\"/home/vpa/RAGollama3/data/20241006/source.csv\" \n",
    "\n",
    "# The model to use in sentence-transformers for creation embedding\n",
    "EMBEDDING_MODEL=\"l3cube-pune/bengali-sentence-similarity-sbert\" "
   ]
  },
  {
   "cell_type": "markdown",
   "metadata": {},
   "source": [
    "## Vector Store Creation"
   ]
  },
  {
   "cell_type": "code",
   "execution_count": 2,
   "metadata": {},
   "outputs": [
    {
     "name": "stderr",
     "output_type": "stream",
     "text": [
      "/home/vpa/miniconda3/envs/ragollama/lib/python3.10/site-packages/sentence_transformers/cross_encoder/CrossEncoder.py:11: TqdmWarning: IProgress not found. Please update jupyter and ipywidgets. See https://ipywidgets.readthedocs.io/en/stable/user_install.html\n",
      "  from tqdm.autonotebook import tqdm, trange\n"
     ]
    }
   ],
   "source": [
    "from sentence_transformers import SentenceTransformer\n",
    "import torch\n",
    "\n",
    "# Define the CustomEmbeddings class\n",
    "class CustomEmbeddings:\n",
    "    def __init__(self, model_name: str, device: str = None):\n",
    "        self.device = device or ('cuda' if torch.cuda.is_available() else 'cpu')\n",
    "        self.model = SentenceTransformer(model_name)\n",
    "        self.model.to(self.device)\n",
    "\n",
    "    def embed_documents(self, texts):\n",
    "        \"\"\"Embeds a list of documents (texts) into embeddings.\"\"\"\n",
    "        return self.model.encode(texts, convert_to_numpy=True).tolist()\n",
    "\n",
    "    def embed_query(self, text):\n",
    "        \"\"\"Embeds a single query into an embedding.\"\"\"\n",
    "        return self.model.encode([text], convert_to_numpy=True).tolist()[0]\n"
   ]
  },
  {
   "cell_type": "code",
   "execution_count": 3,
   "metadata": {},
   "outputs": [
    {
     "name": "stderr",
     "output_type": "stream",
     "text": [
      "/home/vpa/miniconda3/envs/ragollama/lib/python3.10/site-packages/transformers/tokenization_utils_base.py:1601: FutureWarning: `clean_up_tokenization_spaces` was not set. It will be set to `True` by default. This behavior will be depracted in transformers v4.45, and will be then set to `False` by default. For more details check this issue: https://github.com/huggingface/transformers/issues/31884\n",
      "  warnings.warn(\n"
     ]
    }
   ],
   "source": [
    "#---------------------------------\n",
    "# imports\n",
    "#---------------------------------\n",
    "import os\n",
    "import pandas as pd\n",
    "import torch\n",
    "from sentence_transformers import SentenceTransformer\n",
    "from langchain.text_splitter import RecursiveCharacterTextSplitter\n",
    "from langchain.vectorstores import Chroma\n",
    "from langchain.schema import Document\n",
    "from tqdm import tqdm\n",
    "#--------------------------------------\n",
    "# global\n",
    "#--------------------------------------\n",
    "embedding_model=CustomEmbeddings(EMBEDDING_MODEL)\n",
    "\n",
    "#--------------------------------------\n",
    "# helper functions\n",
    "#--------------------------------------\n",
    "def create_vector_store(df: pd.DataFrame, \n",
    "                        vector_db_path: str) -> None:\n",
    "    \"\"\"\n",
    "    Create a vector store from a dataframe with a single column, where each entry in the dataframe\n",
    "    is treated as a separate document.\n",
    "\n",
    "    Args:\n",
    "        df (pd.DataFrame): DataFrame containing a single column with text data.\n",
    "        vector_db_path (str): Path to the directory where the vector store will be persisted.\n",
    "    \"\"\"\n",
    "    # Check if GPU is available and set the device\n",
    "    device = 'cuda' if torch.cuda.is_available() else 'cpu'\n",
    "    print(f\"Using device: {device}\")\n",
    "\n",
    "    # Create data directory structure\n",
    "    os.makedirs(vector_db_path, exist_ok=True)\n",
    "\n",
    "    # Initialize text splitter\n",
    "    text_splitter = RecursiveCharacterTextSplitter(\n",
    "        chunk_size=1500,\n",
    "        chunk_overlap=200,\n",
    "        length_function=len\n",
    "    )\n",
    "\n",
    "    \n",
    "    # Initialize the vector store with GPU-based embeddings\n",
    "    vectorstore = Chroma(persist_directory=vector_db_path, embedding_function=embedding_model)\n",
    "\n",
    "    # Process each document in the dataframe\n",
    "    for data in tqdm(df.iloc[:, 0]):\n",
    "        documents = [Document(page_content=data)]\n",
    "        all_splits = text_splitter.split_documents(documents)\n",
    "\n",
    "        # Add the split documents to the vector store\n",
    "        vectorstore.add_documents(all_splits)\n",
    "\n",
    "    # Persist the vector store\n",
    "    vectorstore.persist()\n",
    "    print(\"Vector store created and persisted at:\", vector_db_path)\n"
   ]
  },
  {
   "cell_type": "code",
   "execution_count": 4,
   "metadata": {},
   "outputs": [
    {
     "data": {
      "text/html": [
       "<div>\n",
       "<style scoped>\n",
       "    .dataframe tbody tr th:only-of-type {\n",
       "        vertical-align: middle;\n",
       "    }\n",
       "\n",
       "    .dataframe tbody tr th {\n",
       "        vertical-align: top;\n",
       "    }\n",
       "\n",
       "    .dataframe thead th {\n",
       "        text-align: right;\n",
       "    }\n",
       "</style>\n",
       "<table border=\"1\" class=\"dataframe\">\n",
       "  <thead>\n",
       "    <tr style=\"text-align: right;\">\n",
       "      <th></th>\n",
       "      <th>text</th>\n",
       "    </tr>\n",
       "  </thead>\n",
       "  <tbody>\n",
       "    <tr>\n",
       "      <th>0</th>\n",
       "      <td>মোটরযানের ফিটনেস নবায়ন প্রক্রিয়া নিবন্ধনের সময়...</td>\n",
       "    </tr>\n",
       "    <tr>\n",
       "      <th>1</th>\n",
       "      <td>আয়করের ঠিকানা পরিবর্তন করার নিয়ম : আপনি www.in...</td>\n",
       "    </tr>\n",
       "    <tr>\n",
       "      <th>2</th>\n",
       "      <td>সর্বাধিক জিজ্ঞাস্য প্রশ্নাবলি ( FAQ ) ( ক ) প্...</td>\n",
       "    </tr>\n",
       "    <tr>\n",
       "      <th>3</th>\n",
       "      <td>জাতীয় সাইবার নিরাপত্তা এজেন্সি ই - ১৪/এক্স , আ...</td>\n",
       "    </tr>\n",
       "    <tr>\n",
       "      <th>4</th>\n",
       "      <td>\" মৃত ভোটারদের নাম বাদ দেওয়া : মৃত ভোটারের নাম...</td>\n",
       "    </tr>\n",
       "    <tr>\n",
       "      <th>...</th>\n",
       "      <td>...</td>\n",
       "    </tr>\n",
       "    <tr>\n",
       "      <th>90</th>\n",
       "      <td>নামজারি সেবা প্রাপ্তি সময় সাধারণ ক্ষেত্রে ২৮ (...</td>\n",
       "    </tr>\n",
       "    <tr>\n",
       "      <th>91</th>\n",
       "      <td>নামজারি আবেদন না মঞ্জুর হলে করনীয় বিভিন্ন কারণ...</td>\n",
       "    </tr>\n",
       "    <tr>\n",
       "      <th>92</th>\n",
       "      <td>বিডি পুলিশ সাধারণ নির্দেশনা : ০১ . আপনার বাসা ...</td>\n",
       "    </tr>\n",
       "    <tr>\n",
       "      <th>93</th>\n",
       "      <td>ফায়ার সার্ভিস ও সিভিল ডিফেন্স স্টেশনসমূহ হতে য...</td>\n",
       "    </tr>\n",
       "    <tr>\n",
       "      <th>94</th>\n",
       "      <td>বৈদেশিক মুদ্রা হিসাব খোলার জন্য প্রয়োজনীয় কাগজ...</td>\n",
       "    </tr>\n",
       "  </tbody>\n",
       "</table>\n",
       "<p>95 rows × 1 columns</p>\n",
       "</div>"
      ],
      "text/plain": [
       "                                                 text\n",
       "0   মোটরযানের ফিটনেস নবায়ন প্রক্রিয়া নিবন্ধনের সময়...\n",
       "1   আয়করের ঠিকানা পরিবর্তন করার নিয়ম : আপনি www.in...\n",
       "2   সর্বাধিক জিজ্ঞাস্য প্রশ্নাবলি ( FAQ ) ( ক ) প্...\n",
       "3   জাতীয় সাইবার নিরাপত্তা এজেন্সি ই - ১৪/এক্স , আ...\n",
       "4   \" মৃত ভোটারদের নাম বাদ দেওয়া : মৃত ভোটারের নাম...\n",
       "..                                                ...\n",
       "90  নামজারি সেবা প্রাপ্তি সময় সাধারণ ক্ষেত্রে ২৮ (...\n",
       "91  নামজারি আবেদন না মঞ্জুর হলে করনীয় বিভিন্ন কারণ...\n",
       "92  বিডি পুলিশ সাধারণ নির্দেশনা : ০১ . আপনার বাসা ...\n",
       "93  ফায়ার সার্ভিস ও সিভিল ডিফেন্স স্টেশনসমূহ হতে য...\n",
       "94  বৈদেশিক মুদ্রা হিসাব খোলার জন্য প্রয়োজনীয় কাগজ...\n",
       "\n",
       "[95 rows x 1 columns]"
      ]
     },
     "execution_count": 4,
     "metadata": {},
     "output_type": "execute_result"
    }
   ],
   "source": [
    "df=pd.read_csv(DATA_SOURCE)\n",
    "df"
   ]
  },
  {
   "cell_type": "code",
   "execution_count": 5,
   "metadata": {},
   "outputs": [
    {
     "name": "stdout",
     "output_type": "stream",
     "text": [
      "Using device: cuda\n"
     ]
    },
    {
     "name": "stderr",
     "output_type": "stream",
     "text": [
      "/tmp/ipykernel_1024798/2101394220.py:46: LangChainDeprecationWarning: The class `Chroma` was deprecated in LangChain 0.2.9 and will be removed in 0.4. An updated version of the class exists in the langchain-chroma package and should be used instead. To use it run `pip install -U langchain-chroma` and import as `from langchain_chroma import Chroma`.\n",
      "  vectorstore = Chroma(persist_directory=vector_db_path, embedding_function=embedding_model)\n",
      "100%|██████████| 95/95 [00:01<00:00, 63.83it/s]\n"
     ]
    },
    {
     "name": "stdout",
     "output_type": "stream",
     "text": [
      "Vector store created and persisted at: /home/vpa/RAGollama3/data/20241006/database\n"
     ]
    },
    {
     "name": "stderr",
     "output_type": "stream",
     "text": [
      "/tmp/ipykernel_1024798/2101394220.py:57: LangChainDeprecationWarning: Since Chroma 0.4.x the manual persistence method is no longer supported as docs are automatically persisted.\n",
      "  vectorstore.persist()\n"
     ]
    }
   ],
   "source": [
    "create_vector_store(df,VECTOR_DB_PATH)"
   ]
  },
  {
   "cell_type": "markdown",
   "metadata": {},
   "source": [
    "# Checking Validity of vector store"
   ]
  },
  {
   "cell_type": "code",
   "execution_count": 6,
   "metadata": {},
   "outputs": [],
   "source": [
    "from langchain.vectorstores import Chroma\n",
    "from langchain.schema import Document\n",
    "import torch\n",
    "\n",
    "def query_vector_store(vector_db_path: str, query_text: str, top_k: int = 5) -> None:\n",
    "    \"\"\"\n",
    "    Query the vector store to find and display the most similar documents to the given query text.\n",
    "\n",
    "    Args:\n",
    "        vector_db_path (str): Path to the directory where the vector store is persisted.\n",
    "        query_text (str): The text query for which to retrieve similar documents.\n",
    "        top_k (int): The number of top similar documents to retrieve.\n",
    "    \"\"\"\n",
    "    # Load the vector store\n",
    "    vectorstore = Chroma(persist_directory=vector_db_path, embedding_function=embedding_model)\n",
    "\n",
    "    # Check if GPU is available and set the device\n",
    "    device = 'cuda' if torch.cuda.is_available() else 'cpu'\n",
    "    print(f\"Using device: {device}\")\n",
    "\n",
    "    # Perform the query\n",
    "    results = vectorstore.similarity_search(query_text, k=top_k)\n",
    "    \n",
    "    # Print the results\n",
    "    for i, result in enumerate(results):\n",
    "        print(f\"Document {i+1}:\")\n",
    "        print(result.page_content)\n",
    "        #print(\"Similarity score:\", result.score)\n",
    "        print()\n",
    "\n"
   ]
  },
  {
   "cell_type": "code",
   "execution_count": 7,
   "metadata": {},
   "outputs": [
    {
     "name": "stdout",
     "output_type": "stream",
     "text": [
      "Using device: cuda\n",
      "Document 1:\n",
      "মোটরযানের ফিটনেস নবায়ন প্রক্রিয়া নিবন্ধনের সময়ই মোটরযানের ধরণ ও তৈরি সনের উপর ভিত্তি করে ৫ বছর , ২ বছর ও ১ বছরের ফিটনেস সনদ প্রদান করা হয় । এরপর মেয়াদ উত্তীর্ণের পূর্বেই মোটরযানের ফিটনেস নবায়নের বাধ্যবাধকতা রয়েছে । বর্তমানে বিআরটিএ'র যে কোনো সার্কেল অফিসে থেকে মোটরযান হাজির করে পরিদর্শক কর্তৃক সন্তোষজনক পরিদর্শন প্রতিবেদন প্রদানপূর্বক নিবন্ধিত মোটরযানের ফিটনেস নবায়ন করা যায় । ঢাকা বিভাগ ও চট্টগ্রাম বিভাগের আওতাধীন সার্কেল অফিসসমূহ থেকে ফিটনেস সনদ নবায়ন করার ক্ষেত্রে অনলাইনে এ্যাপয়েন্টমেন্ট গ্রহণ করতে হয় । এ্যাপয়েন্টমেন্ট গ্রহণের প্রক্রিয়া নিচের লিংকে পাওয়া যাবে । ফিটনেসের জন্য অ্যাপয়েন্টমেন্ট প্রক্রিয়া প্রয়োজনীয় কাগজপত্র : ১ । নির্ধারিত ফরমে পূরণকৃত ও স্বাক্ষরকৃত আবেদনপত্র ( ঢাকা বিভাগ ও চট্টগ্রাম বিভাগের আওতাধীন সার্কেল অফিসসমূহ থেকে ফিটনেস সনদ নবায়ন করার ক্ষেত্রে অনলাইনে এ্যাপয়েন্টমেন্ট গ্রহণ করতে হবে ) ; ২ । প্রয়োজনীয় ফি প্রদানের রশিদ ; ৩ । ফিটনেস সার্টিফিকেটের মূল কপি ; ৪ । হালনাগাদ ট্যাক্স টোকেন এর সত্যায়িত ফটোকপি ; ৫ । TIN সংক্রান্ত কাগজপত্র - এর সত্যায়িত কপি ; ৬ । অনুমিত আয়কর প্রদানের প্রমাণপত্র ;\n",
      "\n",
      "Document 2:\n",
      "০১ ( এক ) বছরের বাস্তব অভিজ্ঞতার সনদপত্রের ( সংশ্লিষ্ট কর্তৃপক্ষ কর্তৃক প্রদত্ত ) সত্যায়িত ফটোকপি অথবা হালকা গাড়ি চালনার প্রশিক্ষণ প্রদানের জন্য দরখাস্তকারীর ক্ষেত্রে হালকা মোটরযান পরিচালনার কমপক্ষে ০৩ ( তিন ) বছরের বাস্তব অভিজ্ঞতার সনদপত্রের ( সংশ্লিষ্ট কর্তৃপক্ষ কর্তৃক প্রদত্ত ) সত্যায়িত ফটোকপি ( সনদপত্রে কত বছর মোটরযান চালিয়েছেন এবং কোন ধরনের মোটরযান ( হালকা / মাঝারি / ভারী ) চালিয়েছেন তার উল্লেখ অবশ্যই থাকতে হবে ) ; এস এস সি বা সমমানের সনদের সত্যায়িত ফটোকপি ; জাতীয় পরিচয়পত্র এর সত্যায়িত ফটোকপি ( ভারী গাড়ি চালনার প্রশিক্ষণ প্রদানের জন্য দরখাস্তকারীর ক্ষেত্রে বয়স কমপক্ষে ২৭ ( সাতাশ ) হতে হবে / হালকা গাড়ি চালনার প্রশিক্ষণ প্রদানের জন্য দরখাস্তকারীর ক্ষেত্রে বয়স কমপক্ষে ২৪ ( চব্বিশ ) হতে হবে ) ; সংশিষ্ট সিটি কর্পোরেশন এর মেয়র বা ওয়ার্ড কমিশনার , পৌরসভার চেয়ারম্যান বা ওয়ার্ড কমিশনার , স্থানীয় ইউনিয়ন পরিষদের চেয়ারম্যান , অথবা প্রথম শ্রেণির ( ন্যূনতম গ্রেড - ৯ ) সরকারী কর্মকর্তা কর্তৃক স্বাক্ষরিত চারিত্রিক সনদপত্রের সত্যায়িত ফটোকপি ; জীবনবৃত্তান্ত ; ফি জমার প্রমাণপত্র । সকল ডকুমেন্টস দাখিল করতে হবে ; অসম্পূর্ণ আবেদনপত্র গ্রহণযোগ্য হবে না । বিশেষ দ্রষ্টব্য : আই এল এ ফরম ( ILA Form ) যথাযথভাবে এবং স্পষ্টভাবে পূরণ করতে হবে । ফরমের নিচে যোগাযোগের নিমিত্ত মোবাইল ফোন নম্বর এবং ইমেইল অ্যাড্রেস ( যদি থাকে ) লিখতে হবে ।\n",
      "\n",
      "Document 3:\n",
      "এর উপরে রচিত গ্রন্থ ইত্যাদি অধ্যয়ন করা যেতে পারে ) ড্রাইভিং ইন্সট্রাকটর লাইসেন্স প্রদানের নিমিত্ত সুপারিশকারী বোর্ড সকল বিষয় মূল্যায়ন করে আবেদনপ্রার্থীকে ড্রাইভিং ইন্সট্রাক্টর লাইসেন্স দেওয়ার জন্য বা না দেওয়ার জন্য সুপারিশ করেন । ড্রাইভিং ইন্সট্রাক্টর লাইসেন্স পাওয়ার জন্য সুপারিশপ্রাপ্ত আবেদনপ্রার্থীকে ড্রাইভিং ইন্সট্রাক্টর লাইসেন্স আই এল ফরম ( IL Form ) প্রদান করা হয় । ড্রাইভিং ইন্সট্রাক্টর লাইসেন্স এর আবেদনপত্রের সাথে প্রয়োজনীয় সংযুক্তি সমূহের তালিকা ড্রাইভিং ইন্সট্রাক্টর লাইসেন্স এর আবেদনপত্রের সাথে ২ কপি পাসপোর্ট সাইজ এবং ২ কপি স্ট্যাম্প সাইজ সত্যায়িত ছবি সংযুক্ত করতে হবে । ড্রাইভিং ইন্সট্রাক্টর লাইসেন্স এর আবেদনপত্রের সাথে নিম্নোল্লিখিত কাগজপত্র দাখিল করতে হবে : [ নিম্নের ক্রমনম্বর অনুযায়ী কাগজপত্র সংযুক্ত করতে হবে এবং প্রতিটি ডকুমেন্ট এর উপর সংশ্লিষ্ট ডকুমেন্ট এর ক্রমনম্বর লিখতে হবে ] ভারী গাড়ি চালনার প্রশিক্ষণ প্রদানের জন্য দরখাস্তকারীর ক্ষেত্রে বৈধ পেশাদার ভারী ড্রাইভিং লাইসেন্সের সত্যায়িত ফটোকপি ( ভারী ড্রাইভিং লাইসেন্স প্রথম ইস্যুর পর অন্তত ০১ ( এক ) বছর অতিবাহিত হতে হবে ) অথবা হালকা গাড়ি চালনার প্রশিক্ষণ প্রদানের জন্য দরখাস্তকারীর ক্ষেত্রে বৈধ পেশাদার হালকা ড্রাইভিং লাইসেন্সের সত্যায়িত ফটোকপি ( হালকা ড্রাইভিং লাইসেন্স প্রথম ইস্যুর পর অন্তত ০৩ ( তিন ) বছর অতিবাহিত হতে হবে ) ; ভারী গাড়ি চালনার প্রশিক্ষণ প্রদানের জন্য দরখাস্তকারীর ক্ষেত্রে ভারী মোটরযান পরিচালনার কমপক্ষে ০১ ( এক ) বছরের বাস্তব অভিজ্ঞতার সনদপত্রের ( সংশ্লিষ্ট কর্তৃপক্ষ কর্তৃক প্রদত্ত ) সত্যায়িত ফটোকপি অথবা হালকা গাড়ি চালনার প্রশিক্ষণ প্রদানের জন্য দরখাস্তকারীর ক্ষেত্রে হালকা মোটরযান পরিচালনার কমপক্ষে\n",
      "\n",
      "Document 4:\n",
      "নিবন্ধিত মোটরযানের টায়ার সাইজ ( প্রস্থ ) সংশোধনের অনুমোদন প্রক্রিয়া মোরটযানের মালিক কে প্রথমে ব্যাংকে মোটরযানের তথ্য সংশোধন ( মডিফিকেশন ) ফি জমা দিতে হবে । এরপর টায়ার সাইজ ( প্রস্থ ) সংশোধনের অনুমোদনের জন্য মোটরযানটি বিআরটিএ'র যে সার্কেলে নিবন্ধিত বা অন্তর্ভুক্ত আছে সে সার্কেলের মোটরযানের মালিকানা বদলী শাখার সহকারী পরিচালক ( ইঞ্জিনিয়ারিং ) অথবা মোটরযানের মালিকানা বদলী শাখা না থাকলে ঐ সার্কেলে সহকারী পরিচালক ( ইঞ্জিনিয়ারিং ) ও নিবন্ধন কর্তৃপক্ষের নিকট উপযুক্ত কারণ ব্যাখ্যা করে প্রমাণকসহ সাদা কাগজে আবেদন করতে হবে এবং মোটরযানটি সরেজমিনে পরিদর্শনের জন্য হাজির করতে হবে । উক্ত আবেদন যাচাই করে সঠিক পাওয়া গেলে সহকারী পরিচালক ( ইঞ্জিনিয়ারিং ) উক্ত মোটরযানটি পরিদর্শনের জন্য মোটরযান পরিদর্শকে নির্দেশনা প্রদান করবেন । সন্তোষজনক পরিদর্শন প্রতিবেদন পাওয়ার পর কর্তৃপক্ষ উক্ত মোটরযানের তথ্য সংশোধনের অনুমোদন প্রদান করবেন এবং একটি প্রাপ্তিস্বীকার পত্র প্রদান করেন যা অস্থায়ী নিবন্ধন সনদ হিসেবে কাজ করবে । উক্ত প্রাপ্তিস্বীকার পত্রে নতুন নিবন্ধন সনদ / ডিজিটাল রেজিস্ট্রেশন সার্টিফিকেট ( ডিআরসি ) প্রদানের সম্ভাব্য তারিখ উল্লেখ থাকবে । এরপর ডিজিটাল রেজিস্ট্রেশন সার্টিফিকেটের প্রস্তুতের কার্যক্রম সম্পন্ন হলে , তা সংগ্রহের জন্য গ্রাহকের মোবাইলে মেসেজের মাধ্যমে জানিয়ে দেওয়া হবে । [ এখানে উল্লেখ্য যে , টায়ার সাইজ ( প্রস্থ ) সংশোধনের প্রক্রিয়া সম্পন্ন করতে ফিটনেস ও ট্যাক্সটেকেন হালনাগাত থাকতে হবে । ] প্রয়োজনীয় দলিলাদি : ১ । মালিকের স্বাক্ষর সম্বলিত আবেদন পত্র - ০১ কপি ; ২ । মূল নিবন্ধন সনদ ( কাগজের নিবন্ধন সনদ হলে হোম কপিও জমা দিতে হবে ) ; ৩ । রং পরিবর্তন ফি জমার রশিদের বিআরটিএ'র কপি ; ৪ । হালনাগাদ ফিটনেস\n",
      "\n",
      "Document 5:\n",
      "নিবন্ধিত মোটরযানের নিবন্ধন সনদের তথ্য সংশোধন / পরিবর্তন করার অনুমোদনের প্রক্রিয়া মোরটযানের মালিক কে প্রথমে ব্যাংকে মোটরযানের তথ্য সংশোধন ( মডিফিকেশন ) ফি জমা দিতে হবে । এরপর তথ্য সংশোধনের অনুমোদনের জন্য মোটরযানটি বিআরটিএ'র যে সার্কেলে নিবন্ধিত বা অন্তর্ভুক্ত আছে সে সার্কেলের মোটরযানের মালিকানা বদলী শাখার সহকারী পরিচালক ( ইঞ্জিনিয়ারিং ) অথবা মোটরযানের মালিকানা বদলী শাখা না থাকলে ঐ সার্কেলে সহকারী পরিচালক ( ইঞ্জিনিয়ারিং ) ও নিবন্ধন কর্তৃপক্ষের নিকট উপযুক্ত কারণ ব্যাখ্যা করে প্রমাণকসহ সাদা কাগজে আবেদন করতে হবে এবং মোটরযানটি সরেজমিনে পরিদর্শনের জন্য হাজির করতে হবে । উক্ত আবেদন যাচাই করে সঠিক পাওয়া গেলে সহকারী পরিচালক ( ইঞ্জিনিয়ারিং ) উক্ত মোটরযানটি পরিদর্শনের জন্য মোটরযান পরিদর্শকে নির্দেশনা প্রদান করবেন । সন্তোষজনক পরিদর্শন প্রতিবেদন পাওয়ার পর কর্তৃপক্ষ উক্ত মোটরযানের তথ্য সংশোধনের অনুমোদন প্রদান করবেন এবং একটি প্রাপ্তিস্বীকার পত্র প্রদান করেন যা অস্থায়ী নিবন্ধন সনদ হিসেবে কাজ করবে । উক্ত প্রাপ্তিস্বীকার পত্রে নতুন নিবন্ধন সনদ / ডিজিটাল রেজিস্ট্রেশন সার্টিফিকেট ( ডিআরসি ) প্রদানের সম্ভাব্য তারিখ উল্লেখ থাকবে । এরপর ডিজিটাল রেজিস্ট্রেশন সার্টিফিকেটের প্রস্তুতের কার্যক্রম সম্পন্ন হলে , তা সংগ্রহের জন্য গ্রাহকের মোবাইলে মেসেজের মাধ্যমে জানিয়ে দেওয়া হবে । [ এখানে উল্লেখ্য যে , সংশোধন প্রক্রিয়া সম্পন্ন করতে ফিটনেস ও ট্যাক্সটেকেন হালনাগাত থাকতে হবে । ] প্রয়োজনীয় দলিলাদি : ১ । মালিকের স্বাক্ষর সম্বলিত আবেদন পত্র - ০১ কপি ; ২ । মূল নিবন্ধন সনদ ( কাগজের নিবন্ধন সনদ হলে হোম কপিও জমা দিতে হবে ) ; ৩ । রং পরিবর্তন ফি জমার রশিদের বিআরটিএ'র কপি ; ৪ । হালনাগাদ ফিটনেস সনদের ফটোকপি - ০১ কপি ; ৫ ।\n",
      "\n"
     ]
    }
   ],
   "source": [
    "# Example usage\n",
    "query_vector_store(vector_db_path=VECTOR_DB_PATH, query_text='মোটরযানের ফিটনেস সনদ কিসের ভিত্তিতে প্রদান করা হয় ?')"
   ]
  },
  {
   "cell_type": "code",
   "execution_count": null,
   "metadata": {},
   "outputs": [],
   "source": []
  }
 ],
 "metadata": {
  "kernelspec": {
   "display_name": "ragollama",
   "language": "python",
   "name": "python3"
  },
  "language_info": {
   "codemirror_mode": {
    "name": "ipython",
    "version": 3
   },
   "file_extension": ".py",
   "mimetype": "text/x-python",
   "name": "python",
   "nbconvert_exporter": "python",
   "pygments_lexer": "ipython3",
   "version": "3.10.14"
  }
 },
 "nbformat": 4,
 "nbformat_minor": 2
}
